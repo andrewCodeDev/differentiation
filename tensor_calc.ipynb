{
 "cells": [
  {
   "cell_type": "code",
   "execution_count": 1,
   "metadata": {},
   "outputs": [],
   "source": [
    "import numpy as np\n",
    "\n",
    "# helper functions\n",
    "def factorial(x):\n",
    "    factorial = 1\n",
    "    for i in range(1, x+1):\n",
    "        factorial *= i\n",
    "    return float(factorial)"
   ]
  },
  {
   "cell_type": "code",
   "execution_count": 2,
   "metadata": {},
   "outputs": [
    {
     "name": "stdout",
     "output_type": "stream",
     "text": [
      "[[1. 2. 3.]\n",
      " [4. 5. 6.]\n",
      " [7. 8. 9.]]\n",
      "\n",
      "[[1. 2. 3.]\n",
      " [4. 5. 6.]\n",
      " [7. 8. 9.]]\n"
     ]
    }
   ],
   "source": [
    "basis = np.identity(3)\n",
    "\n",
    "R3 = np.array([[1, 0, 0], [0, 1, 0], [0, 0, 1]])\n",
    "R3x3 = np.kron(basis, basis).reshape(9, 3, 3)\n",
    "R_ij = np.array([[1, 2, 3], [4, 5, 6], [7, 8, 9]])\n",
    "print(np.einsum('ijk, i -> jk', R3x3, R_ij.flatten()), np.einsum('ijk, jk -> i', R3x3, R_ij).reshape(3, 3), sep='\\n\\n')"
   ]
  },
  {
   "cell_type": "markdown",
   "metadata": {},
   "source": [
    "# LEVI-CIVITA / PERMUTATION TENSOR PROPERTIES"
   ]
  },
  {
   "cell_type": "markdown",
   "metadata": {},
   "source": [
    "    This is the formula for calculating the indices of the Levi-Civita Tensor"
   ]
  },
  {
   "cell_type": "code",
   "execution_count": 3,
   "metadata": {},
   "outputs": [
    {
     "name": "stdout",
     "output_type": "stream",
     "text": [
      "[[[ 0.  0.  0.]\n",
      "  [-0.  0.  1.]\n",
      "  [-0. -1.  0.]]\n",
      "\n",
      " [[ 0. -0. -1.]\n",
      "  [ 0.  0.  0.]\n",
      "  [ 1. -0.  0.]]\n",
      "\n",
      " [[ 0.  1. -0.]\n",
      "  [-1.  0. -0.]\n",
      "  [ 0.  0.  0.]]]\n"
     ]
    }
   ],
   "source": [
    "def epsilon_permutation(i, j, k):\n",
    "    return 0.5 * (j - i) * (k - i) * (k - j)\n",
    "\n",
    "def levi_civita(e):\n",
    "    \n",
    "    lc_tensor = np.zeros((e, e, e))\n",
    "    \n",
    "    for i in range(e):\n",
    "        for j in range(e):\n",
    "            for k in range(e):\n",
    "                \n",
    "                lc_tensor[i][j][k] = epsilon_permutation(i, j, k)\n",
    "    \n",
    "    return lc_tensor\n",
    "\n",
    "e = levi_civita(3)\n",
    "\n",
    "print(e)"
   ]
  },
  {
   "cell_type": "markdown",
   "metadata": {},
   "source": [
    "    Properties of Levi-Civita"
   ]
  },
  {
   "cell_type": "code",
   "execution_count": 4,
   "metadata": {},
   "outputs": [
    {
     "name": "stdout",
     "output_type": "stream",
     "text": [
      "Full inner-product of indices size n will equal n-factorial:  6.0\n",
      "Double inner-product with contraction on symetric matrix will equal 0:  0.0\n",
      "Product with two of the same vector will be zero:  0.0\n",
      "Double inner-product with two Levi-Civita tensors is 2 * Kronecker-Delta: \n",
      "\n",
      "[[2. 0. 0.]\n",
      " [0. 2. 0.]\n",
      " [0. 0. 2.]]\n"
     ]
    }
   ],
   "source": [
    "print( \"Full inner-product of indices size n will equal n-factorial: \", np.einsum('ijk, ijk -> ...', e, e) )\n",
    "\n",
    "Sym = np.array([[0, 2, 3],\n",
    "                [2, 0, 4],\n",
    "                [3, 4, 0]])\n",
    "\n",
    "print( \"Double inner-product with contraction on symetric matrix will equal 0: \", np.einsum('ijk, jk -> ...', e, Sym) )\n",
    "\n",
    "V = np.array([1, 2, 3])\n",
    "\n",
    "a = np.einsum('ijk, i -> jk', e, V)\n",
    "b = np.einsum('ij, j -> ...', a, V)\n",
    "\n",
    "print( \"Product with two of the same vector will be zero: \", b)\n",
    "\n",
    "print( \"Double inner-product with two Levi-Civita tensors is 2 * Kronecker-Delta: \", np.einsum('ijk, ljk -> il', e, e), sep='\\n\\n')"
   ]
  },
  {
   "cell_type": "markdown",
   "metadata": {},
   "source": [
    "    Levi-Civita with Kronecker-Delta:"
   ]
  },
  {
   "cell_type": "code",
   "execution_count": 5,
   "metadata": {},
   "outputs": [
    {
     "name": "stdout",
     "output_type": "stream",
     "text": [
      "Full-Contraction with Kronecker-Delta and Levi-Civita tensor equals 0: \n",
      "\n",
      "0.0\n",
      "\n",
      "0.0\n",
      "\n",
      "0.0\n"
     ]
    }
   ],
   "source": [
    "I = np.identity(3)\n",
    "\n",
    "print(\"Full-Contraction with Kronecker-Delta and Levi-Civita tensor equals 0: \",\n",
    "     np.einsum('ijk, ij -> ...', e, I),\n",
    "     np.einsum('ijk, ik -> ...', e, I),\n",
    "     np.einsum('ijk, jk -> ...', e, I),\n",
    "     sep='\\n\\n')"
   ]
  },
  {
   "cell_type": "markdown",
   "metadata": {},
   "source": [
    "# Tensor Operations"
   ]
  },
  {
   "cell_type": "code",
   "execution_count": 6,
   "metadata": {},
   "outputs": [
    {
     "name": "stdout",
     "output_type": "stream",
     "text": [
      "Determinant of an N x N matrix can be given as e_ijk e_lmn A_il A_jm A_kn * 1/n!: \n",
      "\n",
      "Determinant 1:  0.0\n",
      "\n",
      "Determinant 2:  6.0\n"
     ]
    }
   ],
   "source": [
    "print( \"Determinant of an N x N matrix can be given as e_ijk e_lmn A_il A_jm A_kn * 1/n!: \" )\n",
    "\n",
    "# determinant = 0\n",
    "A = np.array([[1, 2, 3],\n",
    "              [4, 5, 6], \n",
    "              [7, 8, 9]])\n",
    "\n",
    "x = np.einsum('ijk, li -> ljk', e, A)\n",
    "y = np.einsum('ijk, lj -> ilk', x, A)\n",
    "z = np.einsum('ijk, lk -> ijl', y, A)\n",
    "\n",
    "det = np.einsum('ijk, ijk -> ...', e, z) * 1/factorial(3)\n",
    "\n",
    "print('\\nDeterminant 1: ', det)\n",
    "\n",
    "# determinant = 6\n",
    "A = np.array([[2, 5, 6],\n",
    "              [4, 5, 6], \n",
    "              [7, 8, 9]])\n",
    "\n",
    "x = np.einsum('ijk, li -> ljk', e, A)\n",
    "y = np.einsum('ijk, lj -> ilk', x, A)\n",
    "z = np.einsum('ijk, lk -> ijl', y, A)\n",
    "\n",
    "det = np.einsum('ijk, ijk -> ...', e, z) * 1.0/factorial(3)\n",
    "\n",
    "print('\\nDeterminant 2: ', det)"
   ]
  },
  {
   "cell_type": "markdown",
   "metadata": {},
   "source": [
    "    Vector Products"
   ]
  },
  {
   "cell_type": "code",
   "execution_count": 7,
   "metadata": {},
   "outputs": [
    {
     "name": "stdout",
     "output_type": "stream",
     "text": [
      "Cross-product of same vector:  [0. 0. 0.]\n",
      "Cross-product of diff vector:  [-13.  20.  -9.]\n",
      "Triple Scalar Product:  -123.0\n",
      "Triple Vector Product:  [129. -45. -13.]\n"
     ]
    }
   ],
   "source": [
    "V_i = np.array([1, 2, 3])\n",
    "V_j = np.array([3, 9, 2])\n",
    "V_k = np.array([7, 5, 1])\n",
    "\n",
    "# Cross Product\n",
    "X_ik = np.einsum('ijk, j -> ik', e, V_i)\n",
    "print(\"Cross-product of same vector: \", np.einsum('ik, k -> i', X_ik, V_i))\n",
    "print(\"Cross-product of diff vector: \", np.einsum('ik, k -> i', X_ik, V_k))\n",
    "\n",
    "# Scalar Triple Product\n",
    "X_jk = np.einsum('ijk, i -> jk', e, V_i)\n",
    "X_k  = np.einsum('jk, j -> k', X_jk, V_j)\n",
    "print(\"Triple Scalar Product: \", np.einsum('k, k -> ...', X_k, V_k))\n",
    "\n",
    "V_l, V_m = V_j, V_k # renaming indices\n",
    "\n",
    "# Vector Triple Product\n",
    "X_jk = np.einsum('ijk, i -> jk', e, V_i)\n",
    "X_km = np.einsum('klm, l -> km', e, V_l)\n",
    "X_k  = np.einsum('km, m -> k', X_km, V_m)\n",
    "print(\"Triple Vector Product: \", np.einsum('jk, k -> j', X_jk, X_k))"
   ]
  },
  {
   "cell_type": "markdown",
   "metadata": {},
   "source": [
    "# Differentiation"
   ]
  },
  {
   "cell_type": "code",
   "execution_count": 8,
   "metadata": {},
   "outputs": [],
   "source": [
    "def p_dif(x, y):\n",
    "    \n",
    "    comparison = x == y\n",
    "    \n",
    "    if comparison.all():\n",
    "        return np.identity(3)\n",
    "    else:\n",
    "        return np.zeros((3, 3))\n",
    "    \n",
    "def sigmoid(x):\n",
    "    return 1.0 / (1.0 + np.exp(-x))\n",
    "\n",
    "def deriv_logistic(x):\n",
    "    return x * (1.0 - x)"
   ]
  },
  {
   "cell_type": "code",
   "execution_count": 9,
   "metadata": {},
   "outputs": [],
   "source": [
    "Y = np.einsum('i, i -> ...', V_i, V_i)\n",
    "Z = np.einsum('i, i -> ...', V_i, V_j)\n",
    "\n",
    "# Product Rule\n",
    "dY_V_i = np.einsum('i, ij -> j', V_i, p_dif(V_i, V_i)) + np.einsum('ij, j -> i', p_dif(V_i, V_i), V_i) # using same vector\n",
    "dZ_V_i = np.einsum('i, ij -> j', V_i, p_dif(V_i, V_j)) + np.einsum('ij, j -> i', p_dif(V_i, V_i), V_j) # using diff vector\n",
    "\n",
    "# Quadratic Derivative\n",
    "Quad = V_i.dot(A).dot(V_i)\n",
    "dQ_V_i = np.einsum('i, ij -> j', V_i.dot(A), p_dif(V_i, V_i)) + np.einsum('ij, j -> i', p_dif(V_i, V_i), A.dot(V_i)) # using same vector"
   ]
  },
  {
   "cell_type": "code",
   "execution_count": 10,
   "metadata": {},
   "outputs": [
    {
     "name": "stdout",
     "output_type": "stream",
     "text": [
      "[[198. 231. 311.]\n",
      " [208. 243. 327.]\n",
      " [150. 179. 251.]]\n"
     ]
    }
   ],
   "source": [
    "# Derivative with respect to a matrix\n",
    "\n",
    "Z = np.array([[2, 1, 6],\n",
    "              [2, 3, 5],\n",
    "              [2, 4, 1]])\n",
    "\n",
    "Z2 = Z.dot(Z.T)\n",
    "\n",
    "T4 = np.kron(basis, basis).reshape(3, 3, 3, 3) # rank 4 tensor\n",
    "\n",
    "A1 = np.einsum('ij, kjpq -> ikpq', Z, T4) # if derivative was transposed, that shows up in the indices of the 4D Tensor\n",
    "B1 = np.einsum('ijpq, jk -> ikpq', T4, Z.T)\n",
    "\n",
    "d1 = A1 + B1\n",
    "\n",
    "A1 = np.einsum('ij, jkpq -> ikpq', Z2, T4)\n",
    "B1 = np.einsum('ijpq, jk -> ikpq', d1, Z)\n",
    "\n",
    "d1 = A1 + B1\n",
    "\n",
    "d2 = np.einsum('ijkl -> kl', d1)\n",
    "\n",
    "print(d2)"
   ]
  }
 ],
 "metadata": {
  "kernelspec": {
   "display_name": "Python 3",
   "language": "python",
   "name": "python3"
  },
  "language_info": {
   "codemirror_mode": {
    "name": "ipython",
    "version": 3
   },
   "file_extension": ".py",
   "mimetype": "text/x-python",
   "name": "python",
   "nbconvert_exporter": "python",
   "pygments_lexer": "ipython3",
   "version": "3.7.9"
  }
 },
 "nbformat": 4,
 "nbformat_minor": 4
}
