{
 "cells": [
  {
   "cell_type": "code",
   "execution_count": 1,
   "metadata": {},
   "outputs": [],
   "source": [
    "import math"
   ]
  },
  {
   "cell_type": "code",
   "execution_count": 2,
   "metadata": {},
   "outputs": [],
   "source": [
    "def create_vars(string):\n",
    "    return {char: 1.0 for char in string}\n",
    "\n",
    "def id_func(x):\n",
    "    return x"
   ]
  },
  {
   "cell_type": "code",
   "execution_count": 4,
   "metadata": {},
   "outputs": [],
   "source": [
    "Variables = create_vars('xyz')"
   ]
  },
  {
   "cell_type": "code",
   "execution_count": 7,
   "metadata": {},
   "outputs": [],
   "source": [
    "class TermPiece:\n",
    "    def __init__(self, coefficient, function, variable, constant, power):\n",
    "        \n",
    "        assert(type(variable) is str), \"Enter character for variable\"\n",
    "        assert(type(function) is not str), \"Enter valid function\"\n",
    "        \n",
    "        self.E = {\n",
    "                     'co' : coefficient,\n",
    "                     'vr' : variable,\n",
    "                     'cn' : constant,\n",
    "                     'pw' : power\n",
    "                 }\n",
    "        \n",
    "        self.fn = function\n",
    "        \n",
    "        self.pairs = [(key, var) for key, var in self.E.items() if isinstance(var, str)]\n",
    "        \n",
    "        \n",
    "    def update_variables(self):\n",
    "        global Variables\n",
    "        for key, var in self.pairs: self.E[key] = Variables[var];\n",
    "            \n",
    "        \n",
    "    def evaluate(self, d=\"empty\", c=0, partial=False):\n",
    "        self.update_variables()\n",
    "        \n",
    "        if partial:\n",
    "            for key, var in self.pairs:\n",
    "                if d is var: \n",
    "                    d = key; \n",
    "                    break\n",
    "        \n",
    "        if partial and d is \"empty\":\n",
    "            return 0.0\n",
    "        \n",
    "        return (self.E['co'] + c*(d is 'co')) * pow(self.fn((self.E['vr'] + c*(d is 'vr')) + (self.E['cn'] +  c*(d is 'cn'))), (self.E['pw'] + c*(d is 'pw')))\n",
    "    \n",
    "    def deriv(self, var):\n",
    "        return (self.evaluate(d=var, c=1e-8, partial=True) - self.evaluate()) / 1e-8"
   ]
  },
  {
   "cell_type": "code",
   "execution_count": 11,
   "metadata": {},
   "outputs": [],
   "source": [
    "Variables['x'] = 5\n",
    "Variables['y'] = 4\n",
    "a = TermPiece(1.0, id_func, 'x', 0.0, 2)\n",
    "b = TermPiece(-1.0, math.cos, 'x', 0.0, 1.0)\n",
    "c = TermPiece(1.0, id_func, 'x', 0.0, 'y')\n",
    "a.deriv('y')"
   ]
  }
 ],
 "metadata": {
  "kernelspec": {
   "display_name": "Python 3",
   "language": "python",
   "name": "python3"
  },
  "language_info": {
   "codemirror_mode": {
    "name": "ipython",
    "version": 3
   },
   "file_extension": ".py",
   "mimetype": "text/x-python",
   "name": "python",
   "nbconvert_exporter": "python",
   "pygments_lexer": "ipython3",
   "version": "3.7.9"
  }
 },
 "nbformat": 4,
 "nbformat_minor": 4
}
